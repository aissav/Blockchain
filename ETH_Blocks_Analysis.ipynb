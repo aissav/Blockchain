{
 "cells": [
  {
   "cell_type": "code",
   "execution_count": 2,
   "id": "d207dd9f",
   "metadata": {},
   "outputs": [],
   "source": [
    "import pandas as pd\n",
    "import networkx as nx\n",
    "from tqdm import tqdm_notebook as tqdm\n"
   ]
  },
  {
   "cell_type": "markdown",
   "id": "a3397f30",
   "metadata": {},
   "source": [
    "# ETH blocks"
   ]
  },
  {
   "cell_type": "code",
   "execution_count": 3,
   "id": "ee2db5d0",
   "metadata": {},
   "outputs": [
    {
     "data": {
      "text/html": [
       "<div>\n",
       "<style scoped>\n",
       "    .dataframe tbody tr th:only-of-type {\n",
       "        vertical-align: middle;\n",
       "    }\n",
       "\n",
       "    .dataframe tbody tr th {\n",
       "        vertical-align: top;\n",
       "    }\n",
       "\n",
       "    .dataframe thead th {\n",
       "        text-align: right;\n",
       "    }\n",
       "</style>\n",
       "<table border=\"1\" class=\"dataframe\">\n",
       "  <thead>\n",
       "    <tr style=\"text-align: right;\">\n",
       "      <th></th>\n",
       "      <th>hash</th>\n",
       "      <th>parent_hash</th>\n",
       "      <th>nonce</th>\n",
       "      <th>sha3_uncles</th>\n",
       "      <th>logs_bloom</th>\n",
       "      <th>transactions_root</th>\n",
       "      <th>state_root</th>\n",
       "      <th>receipts_root</th>\n",
       "      <th>miner</th>\n",
       "      <th>difficulty</th>\n",
       "      <th>total_difficulty</th>\n",
       "      <th>size</th>\n",
       "      <th>extra_data</th>\n",
       "      <th>gas_limit</th>\n",
       "      <th>gas_used</th>\n",
       "      <th>timestamp</th>\n",
       "      <th>transaction_count</th>\n",
       "    </tr>\n",
       "    <tr>\n",
       "      <th>number</th>\n",
       "      <th></th>\n",
       "      <th></th>\n",
       "      <th></th>\n",
       "      <th></th>\n",
       "      <th></th>\n",
       "      <th></th>\n",
       "      <th></th>\n",
       "      <th></th>\n",
       "      <th></th>\n",
       "      <th></th>\n",
       "      <th></th>\n",
       "      <th></th>\n",
       "      <th></th>\n",
       "      <th></th>\n",
       "      <th></th>\n",
       "      <th></th>\n",
       "      <th></th>\n",
       "    </tr>\n",
       "  </thead>\n",
       "  <tbody>\n",
       "    <tr>\n",
       "      <th>9000000</th>\n",
       "      <td>0x388f34dd94b899f65bbd23006ee93d61434a2f2a5705...</td>\n",
       "      <td>0xdbfa2da5922a4833994af5016b5ccfb2e5a4838fb443...</td>\n",
       "      <td>0xc0bb87c0203c3709</td>\n",
       "      <td>0x1dcc4de8dec75d7aab85b567b6ccd41ad312451b948a...</td>\n",
       "      <td>0x40001000080800181008140500001854008901123400...</td>\n",
       "      <td>0xc357c22c4c9739ece996017524efb56bf7f5fe97a7ef...</td>\n",
       "      <td>0xd863e5b2ecf3dc0276aefe50762d39659811b1f10c91...</td>\n",
       "      <td>0x47aa6890ebab9253cf03286cb7b53edeec912c4032c8...</td>\n",
       "      <td>0x829bd824b016326a401d083b33d092293333a830</td>\n",
       "      <td>2573664196528490</td>\n",
       "      <td>13014076996386893192616</td>\n",
       "      <td>41360</td>\n",
       "      <td>0x7070796520e4b883e5bda9e7a59ee4bb99e9b1bc</td>\n",
       "      <td>9994051</td>\n",
       "      <td>9978336</td>\n",
       "      <td>1574706444</td>\n",
       "      <td>95</td>\n",
       "    </tr>\n",
       "    <tr>\n",
       "      <th>9000001</th>\n",
       "      <td>0x8992ef3955e5f793f0ad9a3ed97472b5330dbd25c92f...</td>\n",
       "      <td>0x388f34dd94b899f65bbd23006ee93d61434a2f2a5705...</td>\n",
       "      <td>0x21791ca8cacb9a8d</td>\n",
       "      <td>0x1dcc4de8dec75d7aab85b567b6ccd41ad312451b948a...</td>\n",
       "      <td>0x040012004080000b3018849002580ab53a843b881e00...</td>\n",
       "      <td>0x57569885299b578f72b6fb68f65eba60f34a1edcb8eb...</td>\n",
       "      <td>0xa1b25c6ee4076797eaf02dce863a13651a3738a04ff3...</td>\n",
       "      <td>0x33791066b327e40fd8495a40bd8f91eda4f8ad617426...</td>\n",
       "      <td>0x44fd3ab8381cc3d14afa7c4af7fd13cdc65026e1</td>\n",
       "      <td>2571425730493512</td>\n",
       "      <td>13014079567812623686128</td>\n",
       "      <td>34751</td>\n",
       "      <td>0x70707965207762</td>\n",
       "      <td>9984293</td>\n",
       "      <td>9937255</td>\n",
       "      <td>1574706479</td>\n",
       "      <td>119</td>\n",
       "    </tr>\n",
       "    <tr>\n",
       "      <th>9000002</th>\n",
       "      <td>0xd18199fd103a7d66f3d9726ecb57398697b9709bb867...</td>\n",
       "      <td>0x8992ef3955e5f793f0ad9a3ed97472b5330dbd25c92f...</td>\n",
       "      <td>0x09ff4acce3ff00fe</td>\n",
       "      <td>0x1dcc4de8dec75d7aab85b567b6ccd41ad312451b948a...</td>\n",
       "      <td>0x14000100000a00080000600480400d04420100c10200...</td>\n",
       "      <td>0x294823e1c8cb91a9a965d75c825b44bb1f9a9fd69ca1...</td>\n",
       "      <td>0x7c0c993f5807a4d94c4f06970e8aac10a1658e794a31...</td>\n",
       "      <td>0x0c7bd26b258bd0f0686531cdaf571d14eb09609281fc...</td>\n",
       "      <td>0xd7a15baeb7ea05c9660cbe03fb7999c2c2e57625</td>\n",
       "      <td>2572956187370423</td>\n",
       "      <td>13014082140768811056551</td>\n",
       "      <td>16998</td>\n",
       "      <td>0x50505945204143432d4d424c31</td>\n",
       "      <td>9974544</td>\n",
       "      <td>5583709</td>\n",
       "      <td>1574706486</td>\n",
       "      <td>69</td>\n",
       "    </tr>\n",
       "    <tr>\n",
       "      <th>9000003</th>\n",
       "      <td>0x1304ee0bed1e621b7de2d6b5749f46246d8985a1103c...</td>\n",
       "      <td>0xd18199fd103a7d66f3d9726ecb57398697b9709bb867...</td>\n",
       "      <td>0x20a20be01b3b275a</td>\n",
       "      <td>0x1dcc4de8dec75d7aab85b567b6ccd41ad312451b948a...</td>\n",
       "      <td>0x22000a200020d42c02aa2018240028f61248c4868439...</td>\n",
       "      <td>0xe207788e6a7f1c986ef2a91ef8895d2c1e7f6f85e9ee...</td>\n",
       "      <td>0x320207613356ee7fd8d63642b46af3b4a37e1d44b905...</td>\n",
       "      <td>0xba9a6856ce19c3619b3ef0a3c2bfbed1bbc7578c9613...</td>\n",
       "      <td>0xb2930b35844a230f00e51431acae96fe543a0347</td>\n",
       "      <td>2571974739014003</td>\n",
       "      <td>13014084712743550070554</td>\n",
       "      <td>33292</td>\n",
       "      <td>0x73656f32</td>\n",
       "      <td>9964840</td>\n",
       "      <td>9958654</td>\n",
       "      <td>1574706505</td>\n",
       "      <td>114</td>\n",
       "    </tr>\n",
       "    <tr>\n",
       "      <th>9000004</th>\n",
       "      <td>0xaa675351de9c1ce66f2f228f9a219f7df77e7bb678d5...</td>\n",
       "      <td>0x1304ee0bed1e621b7de2d6b5749f46246d8985a1103c...</td>\n",
       "      <td>0x48fc58c0000da500</td>\n",
       "      <td>0x1dcc4de8dec75d7aab85b567b6ccd41ad312451b948a...</td>\n",
       "      <td>0x264812c44212008c02d824142c0470b23a80dccd070d...</td>\n",
       "      <td>0xe98fe4155b199b92ef47ac416514f142cfc24a227c5c...</td>\n",
       "      <td>0xa7268bcc121953fa8a6aab3cf9837e86efaac5ad9d87...</td>\n",
       "      <td>0x4517a5b99c4af38250d1736198937b3f7c2862947092...</td>\n",
       "      <td>0xd224ca0c819e8e97ba0136b3b95ceff503b79f53</td>\n",
       "      <td>2570993769880413</td>\n",
       "      <td>13014087283737319950967</td>\n",
       "      <td>24413</td>\n",
       "      <td>0x7575706f6f6c2e636e2d3062386461326532</td>\n",
       "      <td>9955110</td>\n",
       "      <td>9953766</td>\n",
       "      <td>1574706523</td>\n",
       "      <td>142</td>\n",
       "    </tr>\n",
       "  </tbody>\n",
       "</table>\n",
       "</div>"
      ],
      "text/plain": [
       "                                                      hash  \\\n",
       "number                                                       \n",
       "9000000  0x388f34dd94b899f65bbd23006ee93d61434a2f2a5705...   \n",
       "9000001  0x8992ef3955e5f793f0ad9a3ed97472b5330dbd25c92f...   \n",
       "9000002  0xd18199fd103a7d66f3d9726ecb57398697b9709bb867...   \n",
       "9000003  0x1304ee0bed1e621b7de2d6b5749f46246d8985a1103c...   \n",
       "9000004  0xaa675351de9c1ce66f2f228f9a219f7df77e7bb678d5...   \n",
       "\n",
       "                                               parent_hash  \\\n",
       "number                                                       \n",
       "9000000  0xdbfa2da5922a4833994af5016b5ccfb2e5a4838fb443...   \n",
       "9000001  0x388f34dd94b899f65bbd23006ee93d61434a2f2a5705...   \n",
       "9000002  0x8992ef3955e5f793f0ad9a3ed97472b5330dbd25c92f...   \n",
       "9000003  0xd18199fd103a7d66f3d9726ecb57398697b9709bb867...   \n",
       "9000004  0x1304ee0bed1e621b7de2d6b5749f46246d8985a1103c...   \n",
       "\n",
       "                      nonce  \\\n",
       "number                        \n",
       "9000000  0xc0bb87c0203c3709   \n",
       "9000001  0x21791ca8cacb9a8d   \n",
       "9000002  0x09ff4acce3ff00fe   \n",
       "9000003  0x20a20be01b3b275a   \n",
       "9000004  0x48fc58c0000da500   \n",
       "\n",
       "                                               sha3_uncles  \\\n",
       "number                                                       \n",
       "9000000  0x1dcc4de8dec75d7aab85b567b6ccd41ad312451b948a...   \n",
       "9000001  0x1dcc4de8dec75d7aab85b567b6ccd41ad312451b948a...   \n",
       "9000002  0x1dcc4de8dec75d7aab85b567b6ccd41ad312451b948a...   \n",
       "9000003  0x1dcc4de8dec75d7aab85b567b6ccd41ad312451b948a...   \n",
       "9000004  0x1dcc4de8dec75d7aab85b567b6ccd41ad312451b948a...   \n",
       "\n",
       "                                                logs_bloom  \\\n",
       "number                                                       \n",
       "9000000  0x40001000080800181008140500001854008901123400...   \n",
       "9000001  0x040012004080000b3018849002580ab53a843b881e00...   \n",
       "9000002  0x14000100000a00080000600480400d04420100c10200...   \n",
       "9000003  0x22000a200020d42c02aa2018240028f61248c4868439...   \n",
       "9000004  0x264812c44212008c02d824142c0470b23a80dccd070d...   \n",
       "\n",
       "                                         transactions_root  \\\n",
       "number                                                       \n",
       "9000000  0xc357c22c4c9739ece996017524efb56bf7f5fe97a7ef...   \n",
       "9000001  0x57569885299b578f72b6fb68f65eba60f34a1edcb8eb...   \n",
       "9000002  0x294823e1c8cb91a9a965d75c825b44bb1f9a9fd69ca1...   \n",
       "9000003  0xe207788e6a7f1c986ef2a91ef8895d2c1e7f6f85e9ee...   \n",
       "9000004  0xe98fe4155b199b92ef47ac416514f142cfc24a227c5c...   \n",
       "\n",
       "                                                state_root  \\\n",
       "number                                                       \n",
       "9000000  0xd863e5b2ecf3dc0276aefe50762d39659811b1f10c91...   \n",
       "9000001  0xa1b25c6ee4076797eaf02dce863a13651a3738a04ff3...   \n",
       "9000002  0x7c0c993f5807a4d94c4f06970e8aac10a1658e794a31...   \n",
       "9000003  0x320207613356ee7fd8d63642b46af3b4a37e1d44b905...   \n",
       "9000004  0xa7268bcc121953fa8a6aab3cf9837e86efaac5ad9d87...   \n",
       "\n",
       "                                             receipts_root  \\\n",
       "number                                                       \n",
       "9000000  0x47aa6890ebab9253cf03286cb7b53edeec912c4032c8...   \n",
       "9000001  0x33791066b327e40fd8495a40bd8f91eda4f8ad617426...   \n",
       "9000002  0x0c7bd26b258bd0f0686531cdaf571d14eb09609281fc...   \n",
       "9000003  0xba9a6856ce19c3619b3ef0a3c2bfbed1bbc7578c9613...   \n",
       "9000004  0x4517a5b99c4af38250d1736198937b3f7c2862947092...   \n",
       "\n",
       "                                              miner        difficulty  \\\n",
       "number                                                                  \n",
       "9000000  0x829bd824b016326a401d083b33d092293333a830  2573664196528490   \n",
       "9000001  0x44fd3ab8381cc3d14afa7c4af7fd13cdc65026e1  2571425730493512   \n",
       "9000002  0xd7a15baeb7ea05c9660cbe03fb7999c2c2e57625  2572956187370423   \n",
       "9000003  0xb2930b35844a230f00e51431acae96fe543a0347  2571974739014003   \n",
       "9000004  0xd224ca0c819e8e97ba0136b3b95ceff503b79f53  2570993769880413   \n",
       "\n",
       "                total_difficulty   size  \\\n",
       "number                                    \n",
       "9000000  13014076996386893192616  41360   \n",
       "9000001  13014079567812623686128  34751   \n",
       "9000002  13014082140768811056551  16998   \n",
       "9000003  13014084712743550070554  33292   \n",
       "9000004  13014087283737319950967  24413   \n",
       "\n",
       "                                         extra_data  gas_limit  gas_used  \\\n",
       "number                                                                     \n",
       "9000000  0x7070796520e4b883e5bda9e7a59ee4bb99e9b1bc    9994051   9978336   \n",
       "9000001                            0x70707965207762    9984293   9937255   \n",
       "9000002                0x50505945204143432d4d424c31    9974544   5583709   \n",
       "9000003                                  0x73656f32    9964840   9958654   \n",
       "9000004      0x7575706f6f6c2e636e2d3062386461326532    9955110   9953766   \n",
       "\n",
       "          timestamp  transaction_count  \n",
       "number                                  \n",
       "9000000  1574706444                 95  \n",
       "9000001  1574706479                119  \n",
       "9000002  1574706486                 69  \n",
       "9000003  1574706505                114  \n",
       "9000004  1574706523                142  "
      ]
     },
     "execution_count": 3,
     "metadata": {},
     "output_type": "execute_result"
    }
   ],
   "source": [
    "blocks=pd.read_csv(\"archive/blocks.csv\",index_col=0)\n",
    "blocks.head()"
   ]
  },
  {
   "cell_type": "markdown",
   "id": "a721240d",
   "metadata": {},
   "source": [
    "# Create Bipartite Network"
   ]
  },
  {
   "cell_type": "code",
   "execution_count": 4,
   "id": "8638467a",
   "metadata": {},
   "outputs": [
    {
     "name": "stdout",
     "output_type": "stream",
     "text": [
      "439334  Blocks\n",
      "186  Miners\n"
     ]
    }
   ],
   "source": [
    "#generate nodes\n",
    "blocks_=set(blocks.index)\n",
    "miners_=set(blocks.miner)\n",
    "print(len(blocks_),\" Blocks\")\n",
    "print(len(miners_),\" Miners\")"
   ]
  },
  {
   "cell_type": "code",
   "execution_count": 5,
   "id": "371d95a3",
   "metadata": {},
   "outputs": [],
   "source": [
    "Bi = nx.Graph()\n",
    "Bi.add_nodes_from(miners_, bipartite=0)\n",
    "Bi.add_nodes_from(blocks_, bipartite=1)"
   ]
  },
  {
   "cell_type": "code",
   "execution_count": 6,
   "id": "82c843db",
   "metadata": {},
   "outputs": [
    {
     "data": {
      "text/plain": [
       "439334"
      ]
     },
     "execution_count": 6,
     "metadata": {},
     "output_type": "execute_result"
    }
   ],
   "source": [
    "edges=[(blocks[\"miner\"][block],block) for block in blocks.index]\n",
    "len(edges)"
   ]
  },
  {
   "cell_type": "code",
   "execution_count": 7,
   "id": "dc0ed84e",
   "metadata": {},
   "outputs": [],
   "source": [
    "Bi.add_edges_from(edges,)"
   ]
  },
  {
   "cell_type": "markdown",
   "id": "563cf408",
   "metadata": {},
   "source": [
    "# Analyze the Bipartite Network"
   ]
  },
  {
   "cell_type": "code",
   "execution_count": 11,
   "id": "35527ab3",
   "metadata": {},
   "outputs": [
    {
     "data": {
      "text/plain": [
       "<AxesSubplot:>"
      ]
     },
     "execution_count": 11,
     "metadata": {},
     "output_type": "execute_result"
    },
    {
     "data": {
      "image/png": "[encoded data removed]",
      "text/plain": [
       "<Figure size 864x576 with 1 Axes>"
      ]
     },
     "metadata": {
      "needs_background": "light"
     },
     "output_type": "display_data"
    }
   ],
   "source": [
    "blocks[\"miner\"].hist(bins=40,grid=False, figsize=(12,8), color='#86bf91', zorder=2, rwidth=0.9)"
   ]
  },
  {
   "cell_type": "code",
   "execution_count": null,
   "id": "30aecb15",
   "metadata": {},
   "outputs": [],
   "source": []
  }
 ],
 "metadata": {
  "kernelspec": {
   "display_name": "Python 3 (ipykernel)",
   "language": "python",
   "name": "python3"
  },
  "language_info": {
   "codemirror_mode": {
    "name": "ipython",
    "version": 3
   },
   "file_extension": ".py",
   "mimetype": "text/x-python",
   "name": "python",
   "nbconvert_exporter": "python",
   "pygments_lexer": "ipython3",
   "version": "3.8.8"
  }
 },
 "nbformat": 4,
 "nbformat_minor": 5
}
