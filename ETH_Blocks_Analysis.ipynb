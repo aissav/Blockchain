{
 "cells": [
  {
   "cell_type": "code",
   "execution_count": 2,
   "id": "d207dd9f",
   "metadata": {},
   "outputs": [],
   "source": [
    "import pandas as pd\n",
    "import networkx as nx\n",
    "from tqdm import tqdm_notebook as tqdm\n"
   ]
  },
  {
   "cell_type": "markdown",
   "id": "a3397f30",
   "metadata": {},
   "source": [
    "# ETH blocks"
   ]
  },
  {
   "cell_type": "code",
   "execution_count": 3,
   "id": "ee2db5d0",
   "metadata": {},
   "outputs": [
    {
     "data": {
      "text/html": [
       "<div>\n",
       "<style scoped>\n",
       "    .dataframe tbody tr th:only-of-type {\n",
       "        vertical-align: middle;\n",
       "    }\n",
       "\n",
       "    .dataframe tbody tr th {\n",
       "        vertical-align: top;\n",
       "    }\n",
       "\n",
       "    .dataframe thead th {\n",
       "        text-align: right;\n",
       "    }\n",
       "</style>\n",
       "<table border=\"1\" class=\"dataframe\">\n",
       "  <thead>\n",
       "    <tr style=\"text-align: right;\">\n",
       "      <th></th>\n",
       "      <th>hash</th>\n",
       "      <th>parent_hash</th>\n",
       "      <th>nonce</th>\n",
       "      <th>sha3_uncles</th>\n",
       "      <th>logs_bloom</th>\n",
       "      <th>transactions_root</th>\n",
       "      <th>state_root</th>\n",
       "      <th>receipts_root</th>\n",
       "      <th>miner</th>\n",
       "      <th>difficulty</th>\n",
       "      <th>total_difficulty</th>\n",
       "      <th>size</th>\n",
       "      <th>extra_data</th>\n",
       "      <th>gas_limit</th>\n",
       "      <th>gas_used</th>\n",
       "      <th>timestamp</th>\n",
       "      <th>transaction_count</th>\n",
       "    </tr>\n",
       "    <tr>\n",
       "      <th>number</th>\n",
       "      <th></th>\n",
       "      <th></th>\n",
       "      <th></th>\n",
       "      <th></th>\n",
       "      <th></th>\n",
       "      <th></th>\n",
       "      <th></th>\n",
       "      <th></th>\n",
       "      <th></th>\n",
       "      <th></th>\n",
       "      <th></th>\n",
       "      <th></th>\n",
       "      <th></th>\n",
       "      <th></th>\n",
       "      <th></th>\n",
       "      <th></th>\n",
       "      <th></th>\n",
       "    </tr>\n",
       "  </thead>\n",
       "  <tbody>\n",
       "    <tr>\n",
       "      <th>9000000</th>\n",
       "      <td>0x388f34dd94b899f65bbd23006ee93d61434a2f2a5705...</td>\n",
       "      <td>0xdbfa2da5922a4833994af5016b5ccfb2e5a4838fb443...</td>\n",
       "      <td>0xc0bb87c0203c3709</td>\n",
       "      <td>0x1dcc4de8dec75d7aab85b567b6ccd41ad312451b948a...</td>\n",
       "      <td>0x40001000080800181008140500001854008901123400...</td>\n",
       "      <td>0xc357c22c4c9739ece996017524efb56bf7f5fe97a7ef...</td>\n",
       "      <td>0xd863e5b2ecf3dc0276aefe50762d39659811b1f10c91...</td>\n",
       "      <td>0x47aa6890ebab9253cf03286cb7b53edeec912c4032c8...</td>\n",
       "      <td>0x829bd824b016326a401d083b33d092293333a830</td>\n",
       "      <td>2573664196528490</td>\n",
       "      <td>13014076996386893192616</td>\n",
       "      <td>41360</td>\n",
       "      <td>0x7070796520e4b883e5bda9e7a59ee4bb99e9b1bc</td>\n",
       "      <td>9994051</td>\n",
       "      <td>9978336</td>\n",
       "      <td>1574706444</td>\n",
       "      <td>95</td>\n",
       "    </tr>\n",
       "    <tr>\n",
       "      <th>9000001</th>\n",
       "      <td>0x8992ef3955e5f793f0ad9a3ed97472b5330dbd25c92f...</td>\n",
       "      <td>0x388f34dd94b899f65bbd23006ee93d61434a2f2a5705...</td>\n",
       "      <td>0x21791ca8cacb9a8d</td>\n",
       "      <td>0x1dcc4de8dec75d7aab85b567b6ccd41ad312451b948a...</td>\n",
       "      <td>0x040012004080000b3018849002580ab53a843b881e00...</td>\n",
       "      <td>0x57569885299b578f72b6fb68f65eba60f34a1edcb8eb...</td>\n",
       "      <td>0xa1b25c6ee4076797eaf02dce863a13651a3738a04ff3...</td>\n",
       "      <td>0x33791066b327e40fd8495a40bd8f91eda4f8ad617426...</td>\n",
       "      <td>0x44fd3ab8381cc3d14afa7c4af7fd13cdc65026e1</td>\n",
       "      <td>2571425730493512</td>\n",
       "      <td>13014079567812623686128</td>\n",
       "      <td>34751</td>\n",
       "      <td>0x70707965207762</td>\n",
       "      <td>9984293</td>\n",
       "      <td>9937255</td>\n",
       "      <td>1574706479</td>\n",
       "      <td>119</td>\n",
       "    </tr>\n",
       "    <tr>\n",
       "      <th>9000002</th>\n",
       "      <td>0xd18199fd103a7d66f3d9726ecb57398697b9709bb867...</td>\n",
       "      <td>0x8992ef3955e5f793f0ad9a3ed97472b5330dbd25c92f...</td>\n",
       "      <td>0x09ff4acce3ff00fe</td>\n",
       "      <td>0x1dcc4de8dec75d7aab85b567b6ccd41ad312451b948a...</td>\n",
       "      <td>0x14000100000a00080000600480400d04420100c10200...</td>\n",
       "      <td>0x294823e1c8cb91a9a965d75c825b44bb1f9a9fd69ca1...</td>\n",
       "      <td>0x7c0c993f5807a4d94c4f06970e8aac10a1658e794a31...</td>\n",
       "      <td>0x0c7bd26b258bd0f0686531cdaf571d14eb09609281fc...</td>\n",
       "      <td>0xd7a15baeb7ea05c9660cbe03fb7999c2c2e57625</td>\n",
       "      <td>2572956187370423</td>\n",
       "      <td>13014082140768811056551</td>\n",
       "      <td>16998</td>\n",
       "      <td>0x50505945204143432d4d424c31</td>\n",
       "      <td>9974544</td>\n",
       "      <td>5583709</td>\n",
       "      <td>1574706486</td>\n",
       "      <td>69</td>\n",
       "    </tr>\n",
       "    <tr>\n",
       "      <th>9000003</th>\n",
       "      <td>0x1304ee0bed1e621b7de2d6b5749f46246d8985a1103c...</td>\n",
       "      <td>0xd18199fd103a7d66f3d9726ecb57398697b9709bb867...</td>\n",
       "      <td>0x20a20be01b3b275a</td>\n",
       "      <td>0x1dcc4de8dec75d7aab85b567b6ccd41ad312451b948a...</td>\n",
       "      <td>0x22000a200020d42c02aa2018240028f61248c4868439...</td>\n",
       "      <td>0xe207788e6a7f1c986ef2a91ef8895d2c1e7f6f85e9ee...</td>\n",
       "      <td>0x320207613356ee7fd8d63642b46af3b4a37e1d44b905...</td>\n",
       "      <td>0xba9a6856ce19c3619b3ef0a3c2bfbed1bbc7578c9613...</td>\n",
       "      <td>0xb2930b35844a230f00e51431acae96fe543a0347</td>\n",
       "      <td>2571974739014003</td>\n",
       "      <td>13014084712743550070554</td>\n",
       "      <td>33292</td>\n",
       "      <td>0x73656f32</td>\n",
       "      <td>9964840</td>\n",
       "      <td>9958654</td>\n",
       "      <td>1574706505</td>\n",
       "      <td>114</td>\n",
       "    </tr>\n",
       "    <tr>\n",
       "      <th>9000004</th>\n",
       "      <td>0xaa675351de9c1ce66f2f228f9a219f7df77e7bb678d5...</td>\n",
       "      <td>0x1304ee0bed1e621b7de2d6b5749f46246d8985a1103c...</td>\n",
       "      <td>0x48fc58c0000da500</td>\n",
       "      <td>0x1dcc4de8dec75d7aab85b567b6ccd41ad312451b948a...</td>\n",
       "      <td>0x264812c44212008c02d824142c0470b23a80dccd070d...</td>\n",
       "      <td>0xe98fe4155b199b92ef47ac416514f142cfc24a227c5c...</td>\n",
       "      <td>0xa7268bcc121953fa8a6aab3cf9837e86efaac5ad9d87...</td>\n",
       "      <td>0x4517a5b99c4af38250d1736198937b3f7c2862947092...</td>\n",
       "      <td>0xd224ca0c819e8e97ba0136b3b95ceff503b79f53</td>\n",
       "      <td>2570993769880413</td>\n",
       "      <td>13014087283737319950967</td>\n",
       "      <td>24413</td>\n",
       "      <td>0x7575706f6f6c2e636e2d3062386461326532</td>\n",
       "      <td>9955110</td>\n",
       "      <td>9953766</td>\n",
       "      <td>1574706523</td>\n",
       "      <td>142</td>\n",
       "    </tr>\n",
       "  </tbody>\n",
       "</table>\n",
       "</div>"
      ],
      "text/plain": [
       "                                                      hash  \\\n",
       "number                                                       \n",
       "9000000  0x388f34dd94b899f65bbd23006ee93d61434a2f2a5705...   \n",
       "9000001  0x8992ef3955e5f793f0ad9a3ed97472b5330dbd25c92f...   \n",
       "9000002  0xd18199fd103a7d66f3d9726ecb57398697b9709bb867...   \n",
       "9000003  0x1304ee0bed1e621b7de2d6b5749f46246d8985a1103c...   \n",
       "9000004  0xaa675351de9c1ce66f2f228f9a219f7df77e7bb678d5...   \n",
       "\n",
       "                                               parent_hash  \\\n",
       "number                                                       \n",
       "9000000  0xdbfa2da5922a4833994af5016b5ccfb2e5a4838fb443...   \n",
       "9000001  0x388f34dd94b899f65bbd23006ee93d61434a2f2a5705...   \n",
       "9000002  0x8992ef3955e5f793f0ad9a3ed97472b5330dbd25c92f...   \n",
       "9000003  0xd18199fd103a7d66f3d9726ecb57398697b9709bb867...   \n",
       "9000004  0x1304ee0bed1e621b7de2d6b5749f46246d8985a1103c...   \n",
       "\n",
       "                      nonce  \\\n",
       "number                        \n",
       "9000000  0xc0bb87c0203c3709   \n",
       "9000001  0x21791ca8cacb9a8d   \n",
       "9000002  0x09ff4acce3ff00fe   \n",
       "9000003  0x20a20be01b3b275a   \n",
       "9000004  0x48fc58c0000da500   \n",
       "\n",
       "                                               sha3_uncles  \\\n",
       "number                                                       \n",
       "9000000  0x1dcc4de8dec75d7aab85b567b6ccd41ad312451b948a...   \n",
       "9000001  0x1dcc4de8dec75d7aab85b567b6ccd41ad312451b948a...   \n",
       "9000002  0x1dcc4de8dec75d7aab85b567b6ccd41ad312451b948a...   \n",
       "9000003  0x1dcc4de8dec75d7aab85b567b6ccd41ad312451b948a...   \n",
       "9000004  0x1dcc4de8dec75d7aab85b567b6ccd41ad312451b948a...   \n",
       "\n",
       "                                                logs_bloom  \\\n",
       "number                                                       \n",
       "9000000  0x40001000080800181008140500001854008901123400...   \n",
       "9000001  0x040012004080000b3018849002580ab53a843b881e00...   \n",
       "9000002  0x14000100000a00080000600480400d04420100c10200...   \n",
       "9000003  0x22000a200020d42c02aa2018240028f61248c4868439...   \n",
       "9000004  0x264812c44212008c02d824142c0470b23a80dccd070d...   \n",
       "\n",
       "                                         transactions_root  \\\n",
       "number                                                       \n",
       "9000000  0xc357c22c4c9739ece996017524efb56bf7f5fe97a7ef...   \n",
       "9000001  0x57569885299b578f72b6fb68f65eba60f34a1edcb8eb...   \n",
       "9000002  0x294823e1c8cb91a9a965d75c825b44bb1f9a9fd69ca1...   \n",
       "9000003  0xe207788e6a7f1c986ef2a91ef8895d2c1e7f6f85e9ee...   \n",
       "9000004  0xe98fe4155b199b92ef47ac416514f142cfc24a227c5c...   \n",
       "\n",
       "                                                state_root  \\\n",
       "number                                                       \n",
       "9000000  0xd863e5b2ecf3dc0276aefe50762d39659811b1f10c91...   \n",
       "9000001  0xa1b25c6ee4076797eaf02dce863a13651a3738a04ff3...   \n",
       "9000002  0x7c0c993f5807a4d94c4f06970e8aac10a1658e794a31...   \n",
       "9000003  0x320207613356ee7fd8d63642b46af3b4a37e1d44b905...   \n",
       "9000004  0xa7268bcc121953fa8a6aab3cf9837e86efaac5ad9d87...   \n",
       "\n",
       "                                             receipts_root  \\\n",
       "number                                                       \n",
       "9000000  0x47aa6890ebab9253cf03286cb7b53edeec912c4032c8...   \n",
       "9000001  0x33791066b327e40fd8495a40bd8f91eda4f8ad617426...   \n",
       "9000002  0x0c7bd26b258bd0f0686531cdaf571d14eb09609281fc...   \n",
       "9000003  0xba9a6856ce19c3619b3ef0a3c2bfbed1bbc7578c9613...   \n",
       "9000004  0x4517a5b99c4af38250d1736198937b3f7c2862947092...   \n",
       "\n",
       "                                              miner        difficulty  \\\n",
       "number                                                                  \n",
       "9000000  0x829bd824b016326a401d083b33d092293333a830  2573664196528490   \n",
       "9000001  0x44fd3ab8381cc3d14afa7c4af7fd13cdc65026e1  2571425730493512   \n",
       "9000002  0xd7a15baeb7ea05c9660cbe03fb7999c2c2e57625  2572956187370423   \n",
       "9000003  0xb2930b35844a230f00e51431acae96fe543a0347  2571974739014003   \n",
       "9000004  0xd224ca0c819e8e97ba0136b3b95ceff503b79f53  2570993769880413   \n",
       "\n",
       "                total_difficulty   size  \\\n",
       "number                                    \n",
       "9000000  13014076996386893192616  41360   \n",
       "9000001  13014079567812623686128  34751   \n",
       "9000002  13014082140768811056551  16998   \n",
       "9000003  13014084712743550070554  33292   \n",
       "9000004  13014087283737319950967  24413   \n",
       "\n",
       "                                         extra_data  gas_limit  gas_used  \\\n",
       "number                                                                     \n",
       "9000000  0x7070796520e4b883e5bda9e7a59ee4bb99e9b1bc    9994051   9978336   \n",
       "9000001                            0x70707965207762    9984293   9937255   \n",
       "9000002                0x50505945204143432d4d424c31    9974544   5583709   \n",
       "9000003                                  0x73656f32    9964840   9958654   \n",
       "9000004      0x7575706f6f6c2e636e2d3062386461326532    9955110   9953766   \n",
       "\n",
       "          timestamp  transaction_count  \n",
       "number                                  \n",
       "9000000  1574706444                 95  \n",
       "9000001  1574706479                119  \n",
       "9000002  1574706486                 69  \n",
       "9000003  1574706505                114  \n",
       "9000004  1574706523                142  "
      ]
     },
     "execution_count": 3,
     "metadata": {},
     "output_type": "execute_result"
    }
   ],
   "source": [
    "blocks=pd.read_csv(\"archive/blocks.csv\",index_col=0)\n",
    "blocks.head()"
   ]
  },
  {
   "cell_type": "code",
   "execution_count": 14,
   "id": "0ae7323f",
   "metadata": {},
   "outputs": [
    {
     "data": {
      "text/plain": [
       "['hash',\n",
       " 'parent_hash',\n",
       " 'nonce',\n",
       " 'sha3_uncles',\n",
       " 'logs_bloom',\n",
       " 'transactions_root',\n",
       " 'state_root',\n",
       " 'receipts_root',\n",
       " 'miner',\n",
       " 'difficulty',\n",
       " 'total_difficulty',\n",
       " 'size',\n",
       " 'extra_data',\n",
       " 'gas_limit',\n",
       " 'gas_used',\n",
       " 'timestamp',\n",
       " 'transaction_count']"
      ]
     },
     "execution_count": 14,
     "metadata": {},
     "output_type": "execute_result"
    }
   ],
   "source": [
    "list (blocks.columns)"
   ]
  },
  {
   "cell_type": "markdown",
   "id": "a721240d",
   "metadata": {},
   "source": [
    "# Create Bipartite Network"
   ]
  },
  {
   "cell_type": "code",
   "execution_count": 149,
   "id": "4dedf740",
   "metadata": {},
   "outputs": [
    {
     "data": {
      "text/html": [
       "<div>\n",
       "<style scoped>\n",
       "    .dataframe tbody tr th:only-of-type {\n",
       "        vertical-align: middle;\n",
       "    }\n",
       "\n",
       "    .dataframe tbody tr th {\n",
       "        vertical-align: top;\n",
       "    }\n",
       "\n",
       "    .dataframe thead th {\n",
       "        text-align: right;\n",
       "    }\n",
       "</style>\n",
       "<table border=\"1\" class=\"dataframe\">\n",
       "  <thead>\n",
       "    <tr style=\"text-align: right;\">\n",
       "      <th></th>\n",
       "      <th>hash</th>\n",
       "      <th>parent_hash</th>\n",
       "      <th>nonce</th>\n",
       "      <th>sha3_uncles</th>\n",
       "      <th>logs_bloom</th>\n",
       "      <th>transactions_root</th>\n",
       "      <th>state_root</th>\n",
       "      <th>receipts_root</th>\n",
       "      <th>miner</th>\n",
       "      <th>difficulty</th>\n",
       "      <th>total_difficulty</th>\n",
       "      <th>size</th>\n",
       "      <th>extra_data</th>\n",
       "      <th>gas_limit</th>\n",
       "      <th>gas_used</th>\n",
       "      <th>timestamp</th>\n",
       "      <th>transaction_count</th>\n",
       "    </tr>\n",
       "    <tr>\n",
       "      <th>number</th>\n",
       "      <th></th>\n",
       "      <th></th>\n",
       "      <th></th>\n",
       "      <th></th>\n",
       "      <th></th>\n",
       "      <th></th>\n",
       "      <th></th>\n",
       "      <th></th>\n",
       "      <th></th>\n",
       "      <th></th>\n",
       "      <th></th>\n",
       "      <th></th>\n",
       "      <th></th>\n",
       "      <th></th>\n",
       "      <th></th>\n",
       "      <th></th>\n",
       "      <th></th>\n",
       "    </tr>\n",
       "  </thead>\n",
       "  <tbody>\n",
       "    <tr>\n",
       "      <th>9165069</th>\n",
       "      <td>0x397dae91c04a0f989bd8bd20b3bbfe85a645b572cb95...</td>\n",
       "      <td>0xa95d175aa1f49dd9e36dab7ea35947242c96588725fa...</td>\n",
       "      <td>0xaa06bd1563057020</td>\n",
       "      <td>0x1dcc4de8dec75d7aab85b567b6ccd41ad312451b948a...</td>\n",
       "      <td>0x00001000000000000000000000000040000801000000...</td>\n",
       "      <td>0xe7321d372fef515e843e0ee85f502e073fbdb3d2f65c...</td>\n",
       "      <td>0xbd42210e489f47619c85380c24618d5c9b6ed79f4fad...</td>\n",
       "      <td>0x2fdf9b362b4184f6568343445650e5f77b6c96144550...</td>\n",
       "      <td>0x1c93dc7fefccfa4dd18e233ab1a09c94ec0675e1</td>\n",
       "      <td>2421562505088943</td>\n",
       "      <td>13437927002588214369794</td>\n",
       "      <td>3187</td>\n",
       "      <td>0x755a54614b746b543867</td>\n",
       "      <td>9980417</td>\n",
       "      <td>668880</td>\n",
       "      <td>1577352297</td>\n",
       "      <td>16</td>\n",
       "    </tr>\n",
       "  </tbody>\n",
       "</table>\n",
       "</div>"
      ],
      "text/plain": [
       "                                                      hash  \\\n",
       "number                                                       \n",
       "9165069  0x397dae91c04a0f989bd8bd20b3bbfe85a645b572cb95...   \n",
       "\n",
       "                                               parent_hash  \\\n",
       "number                                                       \n",
       "9165069  0xa95d175aa1f49dd9e36dab7ea35947242c96588725fa...   \n",
       "\n",
       "                      nonce  \\\n",
       "number                        \n",
       "9165069  0xaa06bd1563057020   \n",
       "\n",
       "                                               sha3_uncles  \\\n",
       "number                                                       \n",
       "9165069  0x1dcc4de8dec75d7aab85b567b6ccd41ad312451b948a...   \n",
       "\n",
       "                                                logs_bloom  \\\n",
       "number                                                       \n",
       "9165069  0x00001000000000000000000000000040000801000000...   \n",
       "\n",
       "                                         transactions_root  \\\n",
       "number                                                       \n",
       "9165069  0xe7321d372fef515e843e0ee85f502e073fbdb3d2f65c...   \n",
       "\n",
       "                                                state_root  \\\n",
       "number                                                       \n",
       "9165069  0xbd42210e489f47619c85380c24618d5c9b6ed79f4fad...   \n",
       "\n",
       "                                             receipts_root  \\\n",
       "number                                                       \n",
       "9165069  0x2fdf9b362b4184f6568343445650e5f77b6c96144550...   \n",
       "\n",
       "                                              miner        difficulty  \\\n",
       "number                                                                  \n",
       "9165069  0x1c93dc7fefccfa4dd18e233ab1a09c94ec0675e1  2421562505088943   \n",
       "\n",
       "                total_difficulty  size              extra_data  gas_limit  \\\n",
       "number                                                                      \n",
       "9165069  13437927002588214369794  3187  0x755a54614b746b543867    9980417   \n",
       "\n",
       "         gas_used   timestamp  transaction_count  \n",
       "number                                            \n",
       "9165069    668880  1577352297                 16  "
      ]
     },
     "execution_count": 149,
     "metadata": {},
     "output_type": "execute_result"
    }
   ],
   "source": [
    "blocks[blocks.miner==\"0x1c93dc7fefccfa4dd18e233ab1a09c94ec0675e1\"]"
   ]
  },
  {
   "cell_type": "code",
   "execution_count": 146,
   "id": "85c549d2",
   "metadata": {},
   "outputs": [
    {
     "data": {
      "text/plain": [
       "{'0xd6840e76478bf4e6eed42c06b237a40d4b4ce54e': 'm1',\n",
       " '0xe16263ee79b0ee32c242c99f02559e92abaea9eb': 'm2',\n",
       " '0x652d38d814bcdf3e0f750a0faf272ee96c1f67ed': 'm3',\n",
       " '0x6f26e02b068d5a4abd97dfcdbb26b9e2c4ab0b8a': 'm4',\n",
       " '0x12eb9bce34341d1163814843f8dca44dfebe913c': 'm5',\n",
       " '0x8595dd9e0438640b5e1254f9df579ac12a86865f': 'm6',\n",
       " '0xac34420c1a657273bba4927be3f2552a082ca918': 'm7',\n",
       " '0x96cd428525f199279768e8f47a2dbba76604066f': 'm8',\n",
       " '0xc1aa9758c5a647d3807e7bcbcf07c09f55ba6c52': 'm9',\n",
       " '0xd1008015aa0cf2a61493bd19de6c9ca88e934fce': 'm10',\n",
       " '0x829bd824b016326a401d083b33d092293333a830': 'm11',\n",
       " '0xba423942d5dcac687599c1e9aae59ef9143c5c6b': 'm12',\n",
       " '0xb46c577af8e31fc3c29465b54f761fd327d3813a': 'm13',\n",
       " '0xcf92ab29434e91dd0cd6f69a445a62779cef1e86': 'm14',\n",
       " '0x9d6d492bd500da5b33cf95a5d610a73360fcaaa0': 'm15',\n",
       " '0xb592991a7418ebeac32956871c6cf820c18589cf': 'm16',\n",
       " '0x0e237b7d354a7c6671884b6e95ea862a9fcb2896': 'm17',\n",
       " '0xf35074bbd0a9aee46f4ea137971feec024ab704e': 'm18',\n",
       " '0x00192fb10df37c9fb26829eb2cc623cd1bf599e8': 'm19',\n",
       " '0xab06b3efca30c6f9caf6ac271e8bad293eefcda3': 'm20',\n",
       " '0x6a7a43be33ba930fe58f34e07d0ad6ba7adb9b1f': 'm21',\n",
       " '0x08514cd4da822b8f7decb6cd0205561024ab490c': 'm22',\n",
       " '0xba6f5d221d9f1daa22e0b4ee15651bf4d49b1312': 'm23',\n",
       " '0xb8c674fa6c1cedaa25ee5679ecf5c3e452a13795': 'm24',\n",
       " '0xca83bb978e077df8c1e30d5a3572bf124ab6fb97': 'm25',\n",
       " '0xcd4db1a9be6f69ee46852aa1aaccfc7e397ac054': 'm26',\n",
       " '0xf105ba11a2c6b191dbb82633740eb310175ef73d': 'm27',\n",
       " '0x1a9b6bf35531296ce12ae901809a79681448b961': 'm28',\n",
       " '0xa05f0594ee2f0c491466d0325cd424d6c0b2242b': 'm29',\n",
       " '0x1de941b6599e27e56d4e7335359f1892375627e5': 'm30',\n",
       " '0x4a2ebc033f707b546653462e954b23b392749ee5': 'm31',\n",
       " '0x52f13e25754d822a3550d0b68fdefe9304d27ae8': 'm32',\n",
       " '0x1484cd84fcd2b8d35f7b5c16c80ce0ea3bd0a4f5': 'm33',\n",
       " '0x5a0b54d5dc17e0aadc383d2db43b0a0d3e029c4c': 'm34',\n",
       " '0xb2930b35844a230f00e51431acae96fe543a0347': 'm35',\n",
       " '0x0d884146f50da3608e12a247c3e6b7aea102cf09': 'm36',\n",
       " '0xf72019997c44166f9c24d2f860ac4ce98249c5ee': 'm37',\n",
       " '0xa7b0536fb02c593b0dfd82bd65aacbdd19ae4777': 'm38',\n",
       " '0xa3928819aa5b1f775be56d3284b05231c0f0bf09': 'm39',\n",
       " '0xb89eb86ad359e4db4516bb0a2372cd2d6eeee283': 'm40',\n",
       " '0xbc502afe96cd1d4039b97e4c76da0b7f02208bcd': 'm41',\n",
       " '0x64e58ee58362eaf74048eaee3f55cb39a753b33c': 'm42',\n",
       " '0x74bf52cb8d0ff42ee4e5e871e28cc7bcee98b8da': 'm43',\n",
       " '0x7a0d85b3d28a94f9e47d39d379987f5d1c1d8963': 'm44',\n",
       " '0x2a65aca4d5fc5b5c859090a6c34d164135398226': 'm45',\n",
       " '0xe9b54a47e3f401d37798fc4e22f14b78475c2afc': 'm46',\n",
       " '0xf57c44a7bece859fd858f607695c16da7595e4eb': 'm47',\n",
       " '0x856b39c8cf3dca46017bfa5e62cf662470506205': 'm48',\n",
       " '0xa855c20a1351acd2690c716e2709c7dff3978d12': 'm49',\n",
       " '0x6342b97377234bed211d5ec4c6060c7f64246125': 'm50',\n",
       " '0x6c3183792fbb4a4dd276451af6baf5c66d5f5e48': 'm51',\n",
       " '0xe7a9f4f6b55b47df86a05cdd8984a849473764b8': 'm52',\n",
       " '0xa150d46f386610e7468c8bcdd3a64316e06203e0': 'm53',\n",
       " '0x35f61dfb08ada13eba64bf156b80df3d5b3a738d': 'm54',\n",
       " '0x465a136027ea8b7180b04edb8b4b9fb04a3f06f5': 'm55',\n",
       " '0x825a97b927e2cc770b1c0fd3341aab150fbf23a5': 'm56',\n",
       " '0xe5a349fc4ff853dfdd0b7eaaa9dcd8918e768f49': 'm57',\n",
       " '0xf3a71cc1be5ce833c471e3f25aa391f9cd56e1aa': 'm58',\n",
       " '0x0a27c4918c0879c59cea0cd4dafcab104a61a2ef': 'm59',\n",
       " '0x7b0b579b76bbc4ebb7b2f279a6a7d8e2a7a44a24': 'm60',\n",
       " '0x52e44f279f4203dcf680395379e5f9990a69f13c': 'm61',\n",
       " '0x5be1bfc0b1f01f32178d46abf70bb5ff5c4e425a': 'm62',\n",
       " '0x04668ec2f57cc15c381b461b9fedab5d451c8f7f': 'm63',\n",
       " '0xa7f27cda213455732bb9c337a7e2837c643a9298': 'm64',\n",
       " '0xec397c33b387cff7f8ea0e6ace6917b5245e638a': 'm65',\n",
       " '0xd1444fad592558ee5a53a7e2e01d836e431524b9': 'm66',\n",
       " '0x005e288d713a5fb3d7c9cf1b43810a98688c7223': 'm67',\n",
       " '0x44fd3ab8381cc3d14afa7c4af7fd13cdc65026e1': 'm68',\n",
       " '0xdf78b2e254b45c1ef20074bec0fa6c4efc8e94f0': 'm69',\n",
       " '0xe37fe6b7a1554ea34082405d9d07066c9da3297a': 'm70',\n",
       " '0xd7a15baeb7ea05c9660cbe03fb7999c2c2e57625': 'm71',\n",
       " '0x52bc44d5378309ee2abf1539bf71de1b7d7be3b5': 'm72',\n",
       " '0x2554659715e2426df78602c84a4c79725a07b1c2': 'm73',\n",
       " '0x7f3b29ae0d5edae9bb148537d4ed2b12beddf8b3': 'm74',\n",
       " '0x872ea0d161b328110198eb90f06f70de4c0451a6': 'm75',\n",
       " '0x61cdf5524dce5bc64b6cb5f14a53b04105d0cc92': 'm76',\n",
       " '0x23a40a09b221c5a138ccef28c17af378bf1909ea': 'm77',\n",
       " '0xab6addd2cc9dc30748bd2b54312125cfc8d8361d': 'm78',\n",
       " '0x6ec90ef8ce991ac404ab341ccbe0e0588cfc4ed3': 'm79',\n",
       " '0x5ead81ff5cd207623344db7812949085209601b3': 'm80',\n",
       " '0x91003c6a317b345e0d22c9dc75f35c3cef9250c8': 'm81',\n",
       " '0x20c3064bb37c53104b4929b25be0eced6a3ba711': 'm82',\n",
       " '0x3f5dd6ae93fc6413c22e02651badb218018a091a': 'm83',\n",
       " '0xaf7bf88681ffc7200abce78dc1dec97074ff0df2': 'm84',\n",
       " '0xc1b029af00f24350b2b480104f27b1e90321e3b5': 'm85',\n",
       " '0x84a0d77c693adabe0ebc48f88b3ffff010577051': 'm86',\n",
       " '0xede16675c4aea9b5b92ce1a3750992880d83bb12': 'm87',\n",
       " '0x49d27c567d8a173b82cfbfd6c09ef94b9e018d4c': 'm88',\n",
       " '0xbbcb38be843c3ea2f32feeff7da7e7948ceb3c8c': 'm89',\n",
       " '0x6f24d7fc7fb17d051c25be5da1af150077d60fc1': 'm90',\n",
       " '0xdd59ec0ed988f6bf0692dc42bbc0c11306f89859': 'm91',\n",
       " '0x160f4a1af2cfa59a2f11618877e38291fb21ddcb': 'm92',\n",
       " '0x49aa0980b8d14504551da674a12bb8603bd33462': 'm93',\n",
       " '0x1ca43b645886c98d7eb7d27ec16ea59f509cbe1a': 'm94',\n",
       " '0x6bcd2cf2e695a5f77353c9e7cdc65706edc18c1f': 'm95',\n",
       " '0xe9a5083899eb11940d397485abae30bf5c58f92a': 'm96',\n",
       " '0xf71f9a3ac42ac3ae318a593b5801f10c13b2596d': 'm97',\n",
       " '0x11905bd0863ba579023f662d1935e39d0c671933': 'm98',\n",
       " '0x1c93dc7fefccfa4dd18e233ab1a09c94ec0675e1': 'm99',\n",
       " '0x002e08000acbbae2155fab7ac01929564949070d': 'm100',\n",
       " '0xa25c3a553e1f0e100f580522a4fb0c722029538f': 'm101',\n",
       " '0x8a18eee63edca6230757791eaa118168535e9657': 'm102',\n",
       " '0xcf0e04cc0b8fcd66f42679bce42bf2569f438234': 'm103',\n",
       " '0x2a98776c7e13ed1c240858bd241dcf95fc1928b4': 'm104',\n",
       " '0xc9f387477e16d4a7905ef9086f7f1aec8b0dc34d': 'm105',\n",
       " '0x4c549990a7ef3fea8784406c1eecc98bf4211fa5': 'm106',\n",
       " '0xf0bc71950dfff0b330bc8ff054aa44ae389787f1': 'm107',\n",
       " '0x707361a65c1bc4dc7689100597e9ed6a554fd91d': 'm108',\n",
       " '0x06b8c5883ec71bc3f4b332081519f23834c8706e': 'm109',\n",
       " '0x03c03637c984630ea4d355fe42d5a83b983515b0': 'm110',\n",
       " '0xaa5c4244f05c92781c4f259913319d8ba1acf05e': 'm111',\n",
       " '0xd34912efb0e7fedaedb9390990d7ef623e01f4fa': 'm112',\n",
       " '0xa3c084ae80a3f03963017669bc696e961d3ae5d5': 'm113',\n",
       " '0x5ac351107cc13f11bc43863507d05711f4e22583': 'm114',\n",
       " '0x04f76818ae2499bb1c39e428a937312c97b4b35f': 'm115',\n",
       " '0x7dc36b4135e08901bfc73c536ba93181de4c8c5d': 'm116',\n",
       " '0xa4823a13af1e2d08cb81fd6a5f0003cc4bc443d7': 'm117',\n",
       " '0x85e403a780a48a997f6d34a9564bf3bb82f55495': 'm118',\n",
       " '0x823a21ef2f070d46b99c5904d82eff7399ea9059': 'm119',\n",
       " '0x32db2754652962198adbfad538ed496da14dbe5e': 'm120',\n",
       " '0x4b9b7d003f029e0f89bc5801dab97a8dd5f09426': 'm121',\n",
       " '0x50545c1c7052bb1a1c172e766264aae5e242086c': 'm122',\n",
       " '0x637dd836068f0ddc8839e19e50629dc8c0a78b56': 'm123',\n",
       " '0x96338149e9f6c262d4cb7aeec1cf4c652079a11c': 'm124',\n",
       " '0xe00cd4009d59aedea45cfaf9dae9f8eeeafd6749': 'm125',\n",
       " '0x4bb96091ee9d802ed039c4d1a5f6216f90f81b01': 'm126',\n",
       " '0x83f81271fbc4765f994f2a49700b0d90127d25bf': 'm127',\n",
       " '0xd144e30a0571aaf0d0c050070ac435deba461fab': 'm128',\n",
       " '0x840384c8a771a89915a600d55dcbeb0b9c58f433': 'm129',\n",
       " '0x31b0e3fbdc841e4c14da97a38e444abb7020687f': 'm130',\n",
       " '0x9cc9b4d3d6e3ba4e904d6d4f5ea0eb4a476e935c': 'm131',\n",
       " '0x3e7420f95c4bff6d2d855656df1e8c53e1ea5216': 'm132',\n",
       " '0x00f3455ddfe67c76e96c71dc59b574ff7c96f391': 'm133',\n",
       " '0x3747ac3479e6fd866c4f95423d1dffae72589a2f': 'm134',\n",
       " '0x09ab1303d3ccaf5f018cd511146b07a240c70294': 'm135',\n",
       " '0xadf055c6222d75c5f7fe90e021f481e8c55f0afd': 'm136',\n",
       " '0x56d76a1bfddbcdd70807b09742d95c37f789e1a7': 'm137',\n",
       " '0xe1371ad8afa8560e8020a6a5c26dae5bc4f82825': 'm138',\n",
       " '0x0eab4d1a168942e6a64b3860c4249c9733e6142e': 'm139',\n",
       " '0xff1b891969773159366ab6310ff63a69ac4acffd': 'm140',\n",
       " '0x14e9117c480f21066d4904c18dc3cef1eca088c7': 'm141',\n",
       " '0xd7cfba84d5885fb064ee420690bd5574cf1e7a2d': 'm142',\n",
       " '0x6a851246689eb8fc77a9bf68df5860f13f679fa0': 'm143',\n",
       " '0x674e19d3ae0fc12e4064d9a3b95b436a77e6f9fe': 'm144',\n",
       " '0xfdedc5f4e2f0c9a9c7f3eb5d656176bc30e449ae': 'm145',\n",
       " '0xe43248c31fea7c7704560236cb07bbea91b681d5': 'm146',\n",
       " '0x464b0b37db1ee1b5fbe27300acfbf172fd5e4f53': 'm147',\n",
       " '0x9435d50503aee35c8757ae4933f7a0ab56597805': 'm148',\n",
       " '0xcf6ce585cb4a78a6f96e6c8722927161a696f337': 'm149',\n",
       " '0x1b0fef50fdda7867e5b632a65013acab514b9ec3': 'm150',\n",
       " '0xe884310fc5c9097603a4fdd37958373e6bed17aa': 'm151',\n",
       " '0x62896f0748730a121c3e42c9a1fdc58b9212a9c4': 'm152',\n",
       " '0xf64f9720cfcb59ca4f5f45e6fdb3f68b875b7295': 'm153',\n",
       " '0x433022c4066558e7a32d850f02d2da5ca782174d': 'm154',\n",
       " '0xf541c3cd1d2df407fb9bb52b3489fc2aaeedd97e': 'm155',\n",
       " '0x90ec78db3a67151f46d712bee43889bc59d708dd': 'm156',\n",
       " '0x717d21f24da0cd0ae37e69da1d2ab48251c1e3b4': 'm157',\n",
       " '0x61fa5fca7d8a101ef28dd44ab4dcdbba68324db8': 'm158',\n",
       " '0x7642962b7ee42855018a946b8cddfd9f4256bb75': 'm159',\n",
       " '0xf5c58719bda726359ff4b7dca4f77e21e7ac457d': 'm160',\n",
       " '0xaf7f346beec27be6eb0af2bbe7883ce6a7ca94ff': 'm161',\n",
       " '0xd224ca0c819e8e97ba0136b3b95ceff503b79f53': 'm162',\n",
       " '0x45a36a8e118c37e4c47ef4ab827a7c9e579e11e2': 'm163',\n",
       " '0xb6cf40aee9990c25d7d6193952af222e120b31c2': 'm164',\n",
       " '0x99c85bb64564d9ef9a99621301f22c9993cb89e3': 'm165',\n",
       " '0x2a5994b501e6a560e727b6c2de5d856396aadd38': 'm166',\n",
       " '0x23233ff919ec354074da37f726447570c9e0032b': 'm167',\n",
       " '0x97c7e57edefef758896cd9b309d57cdaca544215': 'm168',\n",
       " '0x3f2e2ee02e979504a273ac7359dfe71f91726e04': 'm169',\n",
       " '0x4102bd147b2ed52ebb4f3e28dfb93a08056c4bf5': 'm170',\n",
       " '0x7af4e0017dc4724f60ed4b73fbcaf7d65e71a608': 'm171',\n",
       " '0xb85ee3b1166d68478839053d296330f0a0a485e7': 'm172',\n",
       " '0x249bdb4499bd7c683664c149276c1d86108e2137': 'm173',\n",
       " '0xe7e3ed8391cfd3091b050f20cf401d532a3e009a': 'm174',\n",
       " '0xfaf10b251c3ac484e7e2d709e7e70ebda3676306': 'm175',\n",
       " '0xeee9ac6c27616fbde0a062d75f7b1d5fae6e21f7': 'm176',\n",
       " '0xea674fdde714fd979de3edf0f56aa9716b898ec8': 'm177',\n",
       " '0x49178176d4f7238108f950c5b29fa6c36e3b514a': 'm178',\n",
       " '0xf84720b18c73150aab13f73f96af0dd9a83f4709': 'm179',\n",
       " '0xab8ce27dd4f6ac9ea13a0e5d23bd445cfa905fb8': 'm180',\n",
       " '0x2ff1f88fa9f2aa0ed2a841234f789c7b3c0b51a5': 'm181',\n",
       " '0x4ff2588ff42954bb45127ad4805099796756acf5': 'm182',\n",
       " '0xeea5b82b61424df8020f5fedd81767f2d0d25bfb': 'm183',\n",
       " '0x4853a6e9f04a3c52bfc1fe888a3fff534c7f35ad': 'm184',\n",
       " '0x2cb463e0803da5f24e96b998c2388567921d1725': 'm185',\n",
       " '0x41c74604182a1531534e6d553b49b1d78e6fa9a2': 'm186'}"
      ]
     },
     "execution_count": 146,
     "metadata": {},
     "output_type": "execute_result"
    }
   ],
   "source": [
    "M_reverse_ids"
   ]
  },
  {
   "cell_type": "code",
   "execution_count": 4,
   "id": "8638467a",
   "metadata": {},
   "outputs": [
    {
     "name": "stdout",
     "output_type": "stream",
     "text": [
      "439334  Blocks\n",
      "186  Miners\n"
     ]
    }
   ],
   "source": [
    "#generate nodes\n",
    "blocks_=set(blocks.index)\n",
    "miners_=set(blocks.miner)\n",
    "print(len(blocks_),\" Blocks\")\n",
    "print(len(miners_),\" Miners\")"
   ]
  },
  {
   "cell_type": "code",
   "execution_count": 86,
   "id": "d7a96508",
   "metadata": {},
   "outputs": [],
   "source": [
    "M_reverse_ids={}\n",
    "m_id=1\n",
    "miners_f=set()\n",
    "for m in miners_:\n",
    "    if m not in M_reverse_ids:\n",
    "        M_reverse_ids[m]=\"m\"+str(m_id)\n",
    "        miners_f.add(\"m\"+str(m_id))\n",
    "        m_id+=1"
   ]
  },
  {
   "cell_type": "code",
   "execution_count": null,
   "id": "ca4bce4a",
   "metadata": {},
   "outputs": [],
   "source": []
  },
  {
   "cell_type": "code",
   "execution_count": 138,
   "id": "371d95a3",
   "metadata": {},
   "outputs": [],
   "source": [
    "Bi = nx.Graph()\n",
    "Bi.add_nodes_from(miners_f, bipartite=0)\n",
    "Bi.add_nodes_from(blocks_, bipartite=1)"
   ]
  },
  {
   "cell_type": "code",
   "execution_count": 139,
   "id": "82c843db",
   "metadata": {},
   "outputs": [
    {
     "data": {
      "text/plain": [
       "439334"
      ]
     },
     "execution_count": 139,
     "metadata": {},
     "output_type": "execute_result"
    }
   ],
   "source": [
    "edges=[(M_reverse_ids[blocks[\"miner\"][block]],block) for block in blocks.index]\n",
    "len(edges)"
   ]
  },
  {
   "cell_type": "code",
   "execution_count": 140,
   "id": "dc0ed84e",
   "metadata": {},
   "outputs": [],
   "source": [
    "Bi.add_edges_from(edges,)"
   ]
  },
  {
   "cell_type": "code",
   "execution_count": 141,
   "id": "f8ca1d80",
   "metadata": {},
   "outputs": [
    {
     "name": "stdout",
     "output_type": "stream",
     "text": [
      "('m91', 9273986)\n"
     ]
    }
   ],
   "source": [
    "for i in edges:\n",
    "    if \"m91\" in i:\n",
    "        print(i)"
   ]
  },
  {
   "cell_type": "markdown",
   "id": "563cf408",
   "metadata": {},
   "source": [
    "# Analyze the Bipartite Network"
   ]
  },
  {
   "cell_type": "code",
   "execution_count": 179,
   "id": "ceb0e5d9",
   "metadata": {},
   "outputs": [],
   "source": [
    "degree_sequence = {n:d for n, d in Bi.degree(miners_f)}\n",
    "degree_sequence_={k: v for k, v in sorted(degree_sequence.items(), key=lambda item: item[1],reverse=True)}"
   ]
  },
  {
   "cell_type": "code",
   "execution_count": 180,
   "id": "52046805",
   "metadata": {},
   "outputs": [
    {
     "data": {
      "text/plain": [
       "{'m34': 141162,\n",
       " 'm177': 96445,\n",
       " 'm11': 48205,\n",
       " 'm72': 34539,\n",
       " 'm63': 20015,\n",
       " 'm35': 12575,\n",
       " 'm111': 7307,\n",
       " 'm183': 6037,\n",
       " 'm86': 5579,\n",
       " 'm109': 5351,\n",
       " 'm45': 4622,\n",
       " 'm54': 4397,\n",
       " 'm3': 4043,\n",
       " 'm67': 3999,\n",
       " 'm106': 3780,\n",
       " 'm38': 3742,\n",
       " 'm162': 3634,\n",
       " 'm165': 3317,\n",
       " 'm19': 3073,\n",
       " 'm135': 2773,\n",
       " 'm15': 2087,\n",
       " 'm100': 1742,\n",
       " 'm163': 1515,\n",
       " 'm21': 1444,\n",
       " 'm74': 1408,\n",
       " 'm108': 1208,\n",
       " 'm166': 1197,\n",
       " 'm68': 1090,\n",
       " 'm182': 1051,\n",
       " 'm71': 965,\n",
       " 'm61': 956,\n",
       " 'm150': 767,\n",
       " 'm6': 733,\n",
       " 'm126': 666,\n",
       " 'm60': 595,\n",
       " 'm18': 499,\n",
       " 'm147': 495,\n",
       " 'm94': 485,\n",
       " 'm164': 440,\n",
       " 'm148': 430,\n",
       " 'm24': 396,\n",
       " 'm155': 388,\n",
       " 'm154': 348,\n",
       " 'm32': 318,\n",
       " 'm173': 310,\n",
       " 'm107': 234,\n",
       " 'm186': 228,\n",
       " 'm51': 222,\n",
       " 'm132': 220,\n",
       " 'm113': 182,\n",
       " 'm143': 180,\n",
       " 'm128': 180,\n",
       " 'm46': 173,\n",
       " 'm5': 169,\n",
       " 'm153': 124,\n",
       " 'm168': 121,\n",
       " 'm29': 107,\n",
       " 'm87': 103,\n",
       " 'm149': 103,\n",
       " 'm10': 76,\n",
       " 'm62': 58,\n",
       " 'm90': 51,\n",
       " 'm104': 46,\n",
       " 'm133': 46,\n",
       " 'm98': 44,\n",
       " 'm69': 44,\n",
       " 'm49': 43,\n",
       " 'm178': 42,\n",
       " 'm140': 41,\n",
       " 'm2': 38,\n",
       " 'm136': 33,\n",
       " 'm112': 33,\n",
       " 'm185': 29,\n",
       " 'm83': 24,\n",
       " 'm58': 22,\n",
       " 'm103': 19,\n",
       " 'm152': 14,\n",
       " 'm7': 10,\n",
       " 'm31': 8,\n",
       " 'm56': 7,\n",
       " 'm44': 7,\n",
       " 'm116': 5,\n",
       " 'm158': 5,\n",
       " 'm124': 5,\n",
       " 'm79': 3,\n",
       " 'm28': 3,\n",
       " 'm57': 2,\n",
       " 'm53': 2,\n",
       " 'm179': 2,\n",
       " 'm23': 2,\n",
       " 'm117': 1,\n",
       " 'm156': 1,\n",
       " 'm172': 1,\n",
       " 'm176': 1,\n",
       " 'm151': 1,\n",
       " 'm16': 1,\n",
       " 'm160': 1,\n",
       " 'm146': 1,\n",
       " 'm20': 1,\n",
       " 'm134': 1,\n",
       " 'm64': 1,\n",
       " 'm78': 1,\n",
       " 'm43': 1,\n",
       " 'm130': 1,\n",
       " 'm144': 1,\n",
       " 'm145': 1,\n",
       " 'm42': 1,\n",
       " 'm77': 1,\n",
       " 'm131': 1,\n",
       " 'm123': 1,\n",
       " 'm22': 1,\n",
       " 'm39': 1,\n",
       " 'm102': 1,\n",
       " 'm170': 1,\n",
       " 'm66': 1,\n",
       " 'm55': 1,\n",
       " 'm13': 1,\n",
       " 'm9': 1,\n",
       " 'm101': 1,\n",
       " 'm80': 1,\n",
       " 'm97': 1,\n",
       " 'm115': 1,\n",
       " 'm81': 1,\n",
       " 'm50': 1,\n",
       " 'm96': 1,\n",
       " 'm92': 1,\n",
       " 'm159': 1,\n",
       " 'm127': 1,\n",
       " 'm59': 1,\n",
       " 'm65': 1,\n",
       " 'm30': 1,\n",
       " 'm118': 1,\n",
       " 'm26': 1,\n",
       " 'm167': 1,\n",
       " 'm88': 1,\n",
       " 'm119': 1,\n",
       " 'm27': 1,\n",
       " 'm125': 1,\n",
       " 'm129': 1,\n",
       " 'm180': 1,\n",
       " 'm171': 1,\n",
       " 'm161': 1,\n",
       " 'm8': 1,\n",
       " 'm142': 1,\n",
       " 'm70': 1,\n",
       " 'm73': 1,\n",
       " 'm89': 1,\n",
       " 'm114': 1,\n",
       " 'm137': 1,\n",
       " 'm14': 1,\n",
       " 'm40': 1,\n",
       " 'm184': 1,\n",
       " 'm91': 1,\n",
       " 'm25': 1,\n",
       " 'm181': 1,\n",
       " 'm105': 1,\n",
       " 'm138': 1,\n",
       " 'm99': 1,\n",
       " 'm4': 1,\n",
       " 'm17': 1,\n",
       " 'm76': 1,\n",
       " 'm48': 1,\n",
       " 'm95': 1,\n",
       " 'm121': 1,\n",
       " 'm122': 1,\n",
       " 'm84': 1,\n",
       " 'm169': 1,\n",
       " 'm75': 1,\n",
       " 'm174': 1,\n",
       " 'm1': 1,\n",
       " 'm36': 1,\n",
       " 'm47': 1,\n",
       " 'm93': 1,\n",
       " 'm139': 1,\n",
       " 'm85': 1,\n",
       " 'm110': 1,\n",
       " 'm120': 1,\n",
       " 'm175': 1,\n",
       " 'm157': 1,\n",
       " 'm33': 1,\n",
       " 'm41': 1,\n",
       " 'm141': 1,\n",
       " 'm37': 1,\n",
       " 'm82': 1,\n",
       " 'm52': 1,\n",
       " 'm12': 1}"
      ]
     },
     "execution_count": 180,
     "metadata": {},
     "output_type": "execute_result"
    }
   ],
   "source": [
    "degree_sequence_"
   ]
  },
  {
   "cell_type": "code",
   "execution_count": 185,
   "id": "cc74c755",
   "metadata": {},
   "outputs": [],
   "source": [
    "degree_sequence_F=list(degree_sequence_.values())"
   ]
  },
  {
   "cell_type": "code",
   "execution_count": 188,
   "id": "864614f8",
   "metadata": {},
   "outputs": [
    {
     "data": {
      "text/plain": [
       "{'m34': 141162,\n",
       " 'm177': 96445,\n",
       " 'm11': 48205,\n",
       " 'm72': 34539,\n",
       " 'm63': 20015,\n",
       " 'm35': 12575,\n",
       " 'm111': 7307,\n",
       " 'm183': 6037,\n",
       " 'm86': 5579,\n",
       " 'm109': 5351,\n",
       " 'm45': 4622,\n",
       " 'm54': 4397,\n",
       " 'm3': 4043,\n",
       " 'm67': 3999,\n",
       " 'm106': 3780,\n",
       " 'm38': 3742,\n",
       " 'm162': 3634,\n",
       " 'm165': 3317,\n",
       " 'm19': 3073,\n",
       " 'm135': 2773,\n",
       " 'm15': 2087,\n",
       " 'm100': 1742,\n",
       " 'm163': 1515,\n",
       " 'm21': 1444,\n",
       " 'm74': 1408,\n",
       " 'm108': 1208,\n",
       " 'm166': 1197,\n",
       " 'm68': 1090,\n",
       " 'm182': 1051,\n",
       " 'm71': 965,\n",
       " 'm61': 956,\n",
       " 'm150': 767,\n",
       " 'm6': 733,\n",
       " 'm126': 666,\n",
       " 'm60': 595,\n",
       " 'm18': 499,\n",
       " 'm147': 495,\n",
       " 'm94': 485,\n",
       " 'm164': 440,\n",
       " 'm148': 430,\n",
       " 'm24': 396,\n",
       " 'm155': 388,\n",
       " 'm154': 348,\n",
       " 'm32': 318,\n",
       " 'm173': 310,\n",
       " 'm107': 234,\n",
       " 'm186': 228,\n",
       " 'm51': 222,\n",
       " 'm132': 220,\n",
       " 'm113': 182,\n",
       " 'm143': 180,\n",
       " 'm128': 180,\n",
       " 'm46': 173,\n",
       " 'm5': 169,\n",
       " 'm153': 124,\n",
       " 'm168': 121,\n",
       " 'm29': 107,\n",
       " 'm87': 103,\n",
       " 'm149': 103,\n",
       " 'm10': 76,\n",
       " 'm62': 58,\n",
       " 'm90': 51,\n",
       " 'm104': 46,\n",
       " 'm133': 46,\n",
       " 'm98': 44,\n",
       " 'm69': 44,\n",
       " 'm49': 43,\n",
       " 'm178': 42,\n",
       " 'm140': 41,\n",
       " 'm2': 38,\n",
       " 'm136': 33,\n",
       " 'm112': 33,\n",
       " 'm185': 29,\n",
       " 'm83': 24,\n",
       " 'm58': 22,\n",
       " 'm103': 19,\n",
       " 'm152': 14,\n",
       " 'm7': 10,\n",
       " 'm31': 8,\n",
       " 'm56': 7,\n",
       " 'm44': 7,\n",
       " 'm116': 5,\n",
       " 'm158': 5,\n",
       " 'm124': 5,\n",
       " 'm79': 3,\n",
       " 'm28': 3,\n",
       " 'm57': 2,\n",
       " 'm53': 2,\n",
       " 'm179': 2,\n",
       " 'm23': 2,\n",
       " 'm117': 1,\n",
       " 'm156': 1,\n",
       " 'm172': 1,\n",
       " 'm176': 1,\n",
       " 'm151': 1,\n",
       " 'm16': 1,\n",
       " 'm160': 1,\n",
       " 'm146': 1,\n",
       " 'm20': 1,\n",
       " 'm134': 1,\n",
       " 'm64': 1,\n",
       " 'm78': 1,\n",
       " 'm43': 1,\n",
       " 'm130': 1,\n",
       " 'm144': 1,\n",
       " 'm145': 1,\n",
       " 'm42': 1,\n",
       " 'm77': 1,\n",
       " 'm131': 1,\n",
       " 'm123': 1,\n",
       " 'm22': 1,\n",
       " 'm39': 1,\n",
       " 'm102': 1,\n",
       " 'm170': 1,\n",
       " 'm66': 1,\n",
       " 'm55': 1,\n",
       " 'm13': 1,\n",
       " 'm9': 1,\n",
       " 'm101': 1,\n",
       " 'm80': 1,\n",
       " 'm97': 1,\n",
       " 'm115': 1,\n",
       " 'm81': 1,\n",
       " 'm50': 1,\n",
       " 'm96': 1,\n",
       " 'm92': 1,\n",
       " 'm159': 1,\n",
       " 'm127': 1,\n",
       " 'm59': 1,\n",
       " 'm65': 1,\n",
       " 'm30': 1,\n",
       " 'm118': 1,\n",
       " 'm26': 1,\n",
       " 'm167': 1,\n",
       " 'm88': 1,\n",
       " 'm119': 1,\n",
       " 'm27': 1,\n",
       " 'm125': 1,\n",
       " 'm129': 1,\n",
       " 'm180': 1,\n",
       " 'm171': 1,\n",
       " 'm161': 1,\n",
       " 'm8': 1,\n",
       " 'm142': 1,\n",
       " 'm70': 1,\n",
       " 'm73': 1,\n",
       " 'm89': 1,\n",
       " 'm114': 1,\n",
       " 'm137': 1,\n",
       " 'm14': 1,\n",
       " 'm40': 1,\n",
       " 'm184': 1,\n",
       " 'm91': 1,\n",
       " 'm25': 1,\n",
       " 'm181': 1,\n",
       " 'm105': 1,\n",
       " 'm138': 1,\n",
       " 'm99': 1,\n",
       " 'm4': 1,\n",
       " 'm17': 1,\n",
       " 'm76': 1,\n",
       " 'm48': 1,\n",
       " 'm95': 1,\n",
       " 'm121': 1,\n",
       " 'm122': 1,\n",
       " 'm84': 1,\n",
       " 'm169': 1,\n",
       " 'm75': 1,\n",
       " 'm174': 1,\n",
       " 'm1': 1,\n",
       " 'm36': 1,\n",
       " 'm47': 1,\n",
       " 'm93': 1,\n",
       " 'm139': 1,\n",
       " 'm85': 1,\n",
       " 'm110': 1,\n",
       " 'm120': 1,\n",
       " 'm175': 1,\n",
       " 'm157': 1,\n",
       " 'm33': 1,\n",
       " 'm41': 1,\n",
       " 'm141': 1,\n",
       " 'm37': 1,\n",
       " 'm82': 1,\n",
       " 'm52': 1,\n",
       " 'm12': 1}"
      ]
     },
     "execution_count": 188,
     "metadata": {},
     "output_type": "execute_result"
    }
   ],
   "source": [
    "degree_sequence_"
   ]
  },
  {
   "cell_type": "code",
   "execution_count": null,
   "id": "1497ecf0",
   "metadata": {},
   "outputs": [],
   "source": []
  },
  {
   "cell_type": "code",
   "execution_count": 205,
   "id": "273cc150",
   "metadata": {},
   "outputs": [],
   "source": [
    "nodes_and_neighbors=set()\n",
    "s_nodes=['m34',\n",
    " ]\n",
    "for m in s_nodes:\n",
    "    nodes_and_neighbors=nodes_and_neighbors.union(Bi.neighbors(m))\n",
    "nodes_and_neighbors=nodes_and_neighbors.union(set(s_nodes))"
   ]
  },
  {
   "cell_type": "code",
   "execution_count": 206,
   "id": "c326fa4d",
   "metadata": {},
   "outputs": [
    {
     "data": {
      "text/plain": [
       "141163"
      ]
     },
     "execution_count": 206,
     "metadata": {},
     "output_type": "execute_result"
    }
   ],
   "source": [
    "len(nodes_and_neighbors)"
   ]
  },
  {
   "cell_type": "code",
   "execution_count": 195,
   "id": "436f20af",
   "metadata": {},
   "outputs": [
    {
     "data": {
      "image/png": "[encoded data removed]",
      "text/plain": [
       "<Figure size 432x288 with 1 Axes>"
      ]
     },
     "metadata": {},
     "output_type": "display_data"
    }
   ],
   "source": [
    "H = nx.subgraph(Bi,nodes_and_neighbors )\n",
    "nx.draw(H, with_labels=False, node_color='lightblue', node_size=40)"
   ]
  },
  {
   "cell_type": "code",
   "execution_count": 198,
   "id": "59e951c1",
   "metadata": {},
   "outputs": [
    {
     "data": {
      "image/png": "[encoded data removed]",
      "text/plain": [
       "<Figure size 432x288 with 1 Axes>"
      ]
     },
     "metadata": {},
     "output_type": "display_data"
    }
   ],
   "source": [
    "H = nx.subgraph(Bi,nodes_and_neighbors )\n",
    "nx.draw(H, with_labels=False, node_color='lightblue', node_size=10)"
   ]
  },
  {
   "cell_type": "code",
   "execution_count": 123,
   "id": "74825701",
   "metadata": {},
   "outputs": [],
   "source": [
    "nx.draw??"
   ]
  },
  {
   "cell_type": "code",
   "execution_count": 186,
   "id": "d52a33ae",
   "metadata": {},
   "outputs": [
    {
     "data": {
      "image/png": "[encoded data removed]",
      "text/plain": [
       "<Figure size 576x576 with 3 Axes>"
      ]
     },
     "metadata": {
      "needs_background": "light"
     },
     "output_type": "display_data"
    }
   ],
   "source": [
    "dmax = max(degree_sequence_F)\n",
    "import matplotlib.pyplot as plt\n",
    "import numpy\n",
    "fig = plt.figure(\"Degree of a random graph\", figsize=(8, 8))\n",
    "# Create a gridspec for adding subplots of different sizes\n",
    "axgrid = fig.add_gridspec(5, 4)\n",
    "\n",
    "ax0 = fig.add_subplot(axgrid[0:3, :])\n",
    "#Gcc = Bi.subgraph(sorted(nx.connected_components(Bi), key=len, reverse=True)[0])\n",
    "#pos = nx.spring_layout(Gcc, seed=10396953)\n",
    "#nx.draw_networkx_nodes(Gcc, pos, ax=ax0, node_size=20)\n",
    "#nx.draw_networkx_edges(Gcc, pos, ax=ax0, alpha=0.4)\n",
    "ax0.set_title(\"Connected components of G\")\n",
    "ax0.set_axis_off()\n",
    "\n",
    "ax1 = fig.add_subplot(axgrid[3:, :2])\n",
    "ax1.plot(degree_sequence_F, \"b-\", marker=\"o\")\n",
    "ax1.set_title(\"Degree Rank Plot\")\n",
    "ax1.set_ylabel(\"Degree\")\n",
    "ax1.set_xlabel(\"Rank\")\n",
    "\n",
    "ax2 = fig.add_subplot(axgrid[3:, 2:])\n",
    "ax2.hist(np.unique(degree_sequence_F, return_counts=True))\n",
    "ax2.set_title(\"Degree histogram\")\n",
    "ax2.set_xlabel(\"Degree\")\n",
    "ax2.set_ylabel(\"# of Nodes\")\n",
    "\n",
    "fig.tight_layout()\n",
    "plt.show()"
   ]
  },
  {
   "cell_type": "code",
   "execution_count": 59,
   "id": "d41366ce",
   "metadata": {},
   "outputs": [
    {
     "data": {
      "text/plain": [
       "(array([     1,      2,      3,      5,      7,      8,     10,     14,\n",
       "            19,     22,     24,     29,     33,     38,     41,     42,\n",
       "            43,     44,     46,     51,     58,     76,    103,    107,\n",
       "           121,    124,    169,    173,    180,    182,    220,    222,\n",
       "           228,    234,    310,    318,    348,    388,    396,    430,\n",
       "           440,    485,    495,    499,    595,    666,    733,    767,\n",
       "           956,    965,   1051,   1090,   1197,   1208,   1408,   1444,\n",
       "          1515,   1742,   2087,   2773,   3073,   3317,   3634,   3742,\n",
       "          3780,   3999,   4043,   4397,   4622,   5351,   5579,   6037,\n",
       "          7307,  12575,  20015,  34539,  48205,  96445, 141162]),\n",
       " array([96,  4,  2,  3,  2,  1,  1,  1,  1,  1,  1,  1,  2,  1,  1,  1,  1,\n",
       "         2,  2,  1,  1,  1,  2,  1,  1,  1,  1,  1,  2,  1,  1,  1,  1,  1,\n",
       "         1,  1,  1,  1,  1,  1,  1,  1,  1,  1,  1,  1,  1,  1,  1,  1,  1,\n",
       "         1,  1,  1,  1,  1,  1,  1,  1,  1,  1,  1,  1,  1,  1,  1,  1,  1,\n",
       "         1,  1,  1,  1,  1,  1,  1,  1,  1,  1,  1]))"
      ]
     },
     "execution_count": 59,
     "metadata": {},
     "output_type": "execute_result"
    }
   ],
   "source": [
    "np.unique(degree_sequence, return_counts=True)"
   ]
  },
  {
   "cell_type": "code",
   "execution_count": 48,
   "id": "492f0680",
   "metadata": {},
   "outputs": [
    {
     "data": {
      "text/plain": [
       "186"
      ]
     },
     "execution_count": 48,
     "metadata": {},
     "output_type": "execute_result"
    }
   ],
   "source": [
    "len(degree_sequence)"
   ]
  },
  {
   "cell_type": "code",
   "execution_count": null,
   "id": "3dc1602d",
   "metadata": {},
   "outputs": [],
   "source": []
  },
  {
   "cell_type": "code",
   "execution_count": 20,
   "id": "35527ab3",
   "metadata": {},
   "outputs": [
    {
     "data": {
      "text/plain": [
       "<AxesSubplot:>"
      ]
     },
     "execution_count": 20,
     "metadata": {},
     "output_type": "execute_result"
    },
    {
     "data": {
      "image/png": "[encoded data removed]",
      "text/plain": [
       "<Figure size 720x576 with 1 Axes>"
      ]
     },
     "metadata": {
      "needs_background": "light"
     },
     "output_type": "display_data"
    }
   ],
   "source": [
    "blocks[\"miner\"].hist(bins=10,grid=False, figsize=(10,8), color='blue', zorder=2, rwidth=0.9)"
   ]
  },
  {
   "cell_type": "code",
   "execution_count": 208,
   "id": "e663f703",
   "metadata": {},
   "outputs": [],
   "source": [
    "import math"
   ]
  },
  {
   "cell_type": "markdown",
   "id": "de74a16a",
   "metadata": {},
   "source": [
    "# Fairness"
   ]
  },
  {
   "cell_type": "code",
   "execution_count": 238,
   "id": "30aecb15",
   "metadata": {},
   "outputs": [],
   "source": [
    "firness_u=0.\n",
    "firness_d=0.\n",
    "for miner in miners_f:\n",
    "    firness_u+=(Bi.degree(miner)/len(blocks_f))\n",
    "    firness_d+=math.pow(Bi.degree(miner)/len(blocks_f),2)\n"
   ]
  },
  {
   "cell_type": "code",
   "execution_count": 239,
   "id": "585dc7da",
   "metadata": {},
   "outputs": [],
   "source": [
    "fairness=(math.pow(firness_u,2)/(len(miners_f)*firness_d))"
   ]
  },
  {
   "cell_type": "code",
   "execution_count": 240,
   "id": "97dc42d4",
   "metadata": {},
   "outputs": [
    {
     "data": {
      "text/plain": [
       "0.02562650783901958"
      ]
     },
     "execution_count": 240,
     "metadata": {},
     "output_type": "execute_result"
    }
   ],
   "source": [
    "n_fairness=(fairness-(1./len(miners_f)))/(1.-(1./len(miners_f)))\n",
    "n_fairness"
   ]
  },
  {
   "cell_type": "markdown",
   "id": "e10b218f",
   "metadata": {},
   "source": [
    "# Euc Distance"
   ]
  },
  {
   "cell_type": "code",
   "execution_count": 247,
   "id": "ea457d17",
   "metadata": {},
   "outputs": [
    {
     "data": {
      "text/plain": [
       "0.41086768200072915"
      ]
     },
     "execution_count": 247,
     "metadata": {},
     "output_type": "execute_result"
    }
   ],
   "source": [
    "euc_=0.\n",
    "for miner in miners_f:\n",
    "    euc_+=math.pow(((Bi.degree(miner)/len(blocks_f)) - (1./len(miners_f))),2)\n",
    "math.sqrt(euc_)"
   ]
  },
  {
   "cell_type": "markdown",
   "id": "24e4993b",
   "metadata": {},
   "source": [
    "# Minkowski_dist"
   ]
  },
  {
   "cell_type": "code",
   "execution_count": 255,
   "id": "d979a85d",
   "metadata": {},
   "outputs": [
    {
     "data": {
      "text/plain": [
       "0.0"
      ]
     },
     "execution_count": 255,
     "metadata": {},
     "output_type": "execute_result"
    }
   ],
   "source": [
    "r=1000\n",
    "minkowski_=0.\n",
    "for miner in miners_f:\n",
    "    minkowski_+=math.pow(math.pow(abs((Bi.degree(miner)/len(blocks_f)) - (1./len(miners_f))),r),1)\n",
    "math.pow(minkowski_,(1./r))"
   ]
  },
  {
   "cell_type": "markdown",
   "id": "dca1c1a6",
   "metadata": {},
   "source": [
    "# SIMILARITY MEASURE"
   ]
  },
  {
   "cell_type": "code",
   "execution_count": 256,
   "id": "4b4f621a",
   "metadata": {},
   "outputs": [
    {
     "data": {
      "text/plain": [
       "0.0053763440860214945"
      ]
     },
     "execution_count": 256,
     "metadata": {},
     "output_type": "execute_result"
    }
   ],
   "source": [
    "pi_si=0.\n",
    "pi_=0.\n",
    "si_=0.\n",
    "for miner in miners_f:\n",
    "    pi_si+=(((Bi.degree(miner)/len(blocks_f)) * (1./len(miners_f))))\n",
    "    pi_+=(Bi.degree(miner)/len(blocks_f))\n",
    "    si_+=(1./len(miners_f))\n",
    "cos=pi_si/(pi_*si_)\n",
    "cos"
   ]
  },
  {
   "cell_type": "code",
   "execution_count": null,
   "id": "4510c0d8",
   "metadata": {},
   "outputs": [],
   "source": []
  }
 ],
 "metadata": {
  "kernelspec": {
   "display_name": "Python 3 (ipykernel)",
   "language": "python",
   "name": "python3"
  },
  "language_info": {
   "codemirror_mode": {
    "name": "ipython",
    "version": 3
   },
   "file_extension": ".py",
   "mimetype": "text/x-python",
   "name": "python",
   "nbconvert_exporter": "python",
   "pygments_lexer": "ipython3",
   "version": "3.8.8"
  }
 },
 "nbformat": 4,
 "nbformat_minor": 5
}
